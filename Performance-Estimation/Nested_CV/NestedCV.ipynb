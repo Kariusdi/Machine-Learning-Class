{
 "cells": [
  {
   "cell_type": "markdown",
   "metadata": {},
   "source": [
<<<<<<< HEAD
<<<<<<< HEAD
    "Nested CV VS Normal CV\n",
    "https://ploomber.io/blog/nested-cv/"
=======
    "Nested CV VS Normal CV"
>>>>>>> bb34466 (add more explain and sample for cross validation)
=======
    "Nested CV VS Normal CV\n",
    "https://ploomber.io/blog/nested-cv/"
>>>>>>> 9255326 (.)
   ]
  },
  {
   "cell_type": "markdown",
   "metadata": {},
   "source": [
    "Linear With resubstitution"
   ]
  },
  {
   "cell_type": "code",
   "execution_count": 32,
   "metadata": {},
   "outputs": [
    {
     "name": "stdout",
     "output_type": "stream",
     "text": [
      "Accuracy: 0.97\n"
     ]
    }
   ],
   "source": [
    "from sklearn.datasets import load_iris\n",
    "from sklearn.ensemble import RandomForestClassifier\n",
    "from sklearn.metrics import accuracy_score\n",
    "\n",
    "iris = load_iris()\n",
    "\n",
    "X = iris.data\n",
    "y = iris.target\n",
    "\n",
    "RandForest = RandomForestClassifier(n_estimators=2, random_state=0)\n",
    "# X is our training data\n",
    "RandForest.fit(X, y)\n",
    "\n",
    "# This is an overly optimistic estimation since we are using X again!\n",
    "y_pred = RandForest.predict(X)\n",
    "acc = accuracy_score(y, y_pred)\n",
    "\n",
    "print(f'Accuracy: {acc:.2f}')"
   ]
  },
  {
   "cell_type": "markdown",
   "metadata": {},
   "source": [
    "For test and train => shouldn't be train and test with same data.\n",
    "Use Cross validate to split data into many fold.\n",
    "Then test each fold with model from remaining data set.\n",
    "\n",
    "/++Train++/++Train++/++Train++/**Test**/ => acc \n",
    "/++Train++/++Train++/**Test**/++Train++/ => acc \n",
    "/++Train++/**Test**/++Train++/++Train++/ => acc \n",
    "/**Test**/++Train++/++Train++/++Train++/ => acc\n",
    "\n",
    "CV acc = mean of acc in each fold"
   ]
  },
  {
   "cell_type": "code",
   "execution_count": 45,
   "metadata": {},
   "outputs": [
    {
     "name": "stdout",
     "output_type": "stream",
     "text": [
      "Cross-validated accuracy: (0.97 + 0.97 + 0.93 + 0.90 + 1.00) / 5 = 0.95\n"
     ]
    }
   ],
   "source": [
    "from sklearn.model_selection import cross_validate\n",
    "\n",
    "def do_cross_validation(model, print_model = False):\n",
    "    fold = 5\n",
    "    cv = cross_validate(model, X, y, scoring='accuracy', cv=fold)\n",
    "    scores = ' + '.join(f'{s:.2f}' for s in cv[\"test_score\"])\n",
    "    mean_ = cv[\"test_score\"].mean()\n",
    "    msg = f'Cross-validated accuracy: ({scores}) / {fold} = {mean_:.2f}'\n",
    "    \n",
    "    if print_model:\n",
    "        msg = f'{model}:\\n\\t{msg}\\n'\n",
    "    \n",
    "    print(msg)\n",
    "\n",
    "do_cross_validation(RandForest)"
   ]
  },
  {
   "cell_type": "markdown",
   "metadata": {},
   "source": [
    "SVM moodel (Support Vector Machine)\n",
    "Model for classification, classificate by hyperplane and find best option\n",
    "Parameter for SVM\n",
    "parameter C: Increase size of vector line, if it too much => will over-fit\n",
    "Kernels: for solve non-linear problem by using 3d \n",
    "https://medium.com/@pradyasin/support-vector-machines-svm-943f9a732a69"
   ]
  },
  {
   "cell_type": "code",
   "execution_count": 48,
   "metadata": {},
   "outputs": [
    {
     "name": "stdout",
     "output_type": "stream",
     "text": [
      "Cross-validated accuracy: (0.97 + 0.97 + 0.97 + 0.93 + 1.00) / 5 = 0.97\n"
     ]
    }
   ],
   "source": [
    "from sklearn.svm import SVC\n",
    "\n",
    "svc = SVC(random_state=0)\n",
    "do_cross_validation(svc)"
   ]
  },
  {
   "cell_type": "markdown",
   "metadata": {},
   "source": [
    "From better result in SVM, Let continue with it.\n",
    "///////////////////////////////////////////////\n",
    "Nested CV\n",
    "\n",
    "/++Train++/++Train++/++Train++/**Test**/ => acc \n",
    "/++Train++/++Train++/**Test**/++Train++/ => acc \n",
    "/++Train++/**Test**/++Train++/++Train++/ => acc \n",
    "/**Test**/++Train++/++Train++/++Train++/ => acc <-----------------------\\\n",
    "         |-----------------------------|                                |\n",
    "            Use Training set to do CV                                   |\n",
    "                                                                        |\n",
    "        /**Evaluate**/++Train++/++Train++/ => acc --|                   |\n",
    "        /++Train++/**Evaluate**/++Train++/ => acc   |=> select best one |\n",
    "        /++Train++/++Train++/**Evaluate**/ => acc --|   from each estimators\n",
    "                                                        and re-train"
   ]
  },
  {
   "cell_type": "code",
   "execution_count": 47,
   "metadata": {},
   "outputs": [
    {
     "name": "stdout",
     "output_type": "stream",
     "text": [
      "GridSearchCV(estimator=SVC(random_state=0),\n",
      "             param_grid={'kernel': ['linear', 'poly']}):\n",
      "\tCross-validated accuracy: (0.97 + 1.00 + 0.97 + 0.97 + 1.00) / 5 = 0.98\n",
      "\n"
     ]
    }
   ],
   "source": [
    "from sklearn.model_selection import GridSearchCV\n",
    "\n",
    "# svc inner loop\n",
    "svc_grid = GridSearchCV(SVC(random_state=0), param_grid={'kernel': ['linear', 'poly']})\n",
    "# svc outer loop\n",
    "do_cross_validation(svc_grid, print_model=True)"
   ]
  },
  {
   "cell_type": "code",
<<<<<<< HEAD
<<<<<<< HEAD
   "execution_count": 49,
   "metadata": {},
   "outputs": [
    {
     "name": "stdout",
     "output_type": "stream",
     "text": [
      "SVC(kernel='linear', random_state=0):\n",
      "\tCross-validated accuracy: (0.97 + 1.00 + 0.97 + 0.97 + 1.00) / 5 = 0.98\n",
      "\n",
      "SVC(kernel='poly', random_state=0):\n",
      "\tCross-validated accuracy: (0.97 + 1.00 + 0.97 + 0.97 + 1.00) / 5 = 0.98\n",
      "\n"
     ]
    }
   ],
=======
   "execution_count": null,
   "metadata": {},
   "outputs": [],
>>>>>>> bb34466 (add more explain and sample for cross validation)
=======
   "execution_count": 49,
   "metadata": {},
   "outputs": [
    {
     "name": "stdout",
     "output_type": "stream",
     "text": [
      "SVC(kernel='linear', random_state=0):\n",
      "\tCross-validated accuracy: (0.97 + 1.00 + 0.97 + 0.97 + 1.00) / 5 = 0.98\n",
      "\n",
      "SVC(kernel='poly', random_state=0):\n",
      "\tCross-validated accuracy: (0.97 + 1.00 + 0.97 + 0.97 + 1.00) / 5 = 0.98\n",
      "\n"
     ]
    }
   ],
>>>>>>> 2e5de2d (.)
   "source": [
    "do_cross_validation(SVC(kernel='linear', random_state=0), print_model=True)\n",
    "do_cross_validation(SVC(kernel='poly', random_state=0), print_model=True)"
   ]
  }
 ],
 "metadata": {
  "kernelspec": {
   "display_name": "Python 3",
   "language": "python",
   "name": "python3"
  },
  "language_info": {
   "codemirror_mode": {
    "name": "ipython",
    "version": 3
   },
   "file_extension": ".py",
   "mimetype": "text/x-python",
   "name": "python",
   "nbconvert_exporter": "python",
   "pygments_lexer": "ipython3",
   "version": "3.12.4"
  }
 },
 "nbformat": 4,
 "nbformat_minor": 2
}
