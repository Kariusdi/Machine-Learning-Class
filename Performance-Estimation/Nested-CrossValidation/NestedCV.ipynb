{
 "cells": [
  {
   "cell_type": "markdown",
   "metadata": {},
   "source": [
    "<h2>Nested Cross Validation<h2>\n",
    "<h3>Normal Cross-validation Problem<h3>\n",
    "Overoptimistic Performance Estimate\n",
    "\n",
    "1. Dataset used to select bast hyperparameter.\n",
    "2. Lead to over optimistic estimation.\n",
    "3. because, model is evaluated in data it has already seen during hyperparamater turning.\n"
   ]
  },
  {
   "cell_type": "code",
   "execution_count": 4,
   "metadata": {},
   "outputs": [],
   "source": [
    "import pandas as pd\n",
    "\n",
    "# Load the dataset\n",
    "\n",
    "# Extract features (X) and target variable (y)\n",
    "#data = pd.read_csv('HeightWeight.csv')\n",
    "#X = data['Height'].values.reshape(-1, 1)  # Reshape to 2D array\n",
    "#y = data['Weight'].values\n",
    "\n",
    "data = pd.read_csv('sin_noisy_80sample.csv')\n",
    "X = data[['x', 'x^2', 'x^3', 'x^4', 'x^5', 'x^6', 'x^7', 'x^8']]\n",
    "X = X.to_numpy()\n",
    "y = data['noisy_y'].values\n",
    "\n"
   ]
  },
  {
   "cell_type": "code",
   "execution_count": 5,
   "metadata": {},
   "outputs": [
    {
     "name": "stdout",
     "output_type": "stream",
     "text": [
      "Resubstitution RMSE: 0.257766277865693\n",
      "CV RMSE: 0.40\n"
     ]
    }
   ],
   "source": [
    "import numpy as np\n",
    "from sklearn.linear_model import LinearRegression\n",
    "from sklearn.metrics import mean_squared_error\n",
    "\n",
    "# Resubstitution\n",
    "model = LinearRegression()\n",
    "model.fit(X, y)\n",
    "y_pred = model.predict(X)\n",
    "resubstitution_rmse = np.sqrt(mean_squared_error(y, y_pred))\n",
    "\n",
    "from sklearn.model_selection import cross_val_score\n",
    "\n",
    "# Cross-validation\n",
    "fold = 10\n",
    "model = LinearRegression()\n",
    "cv_scores = cross_val_score(model, X, y, cv=fold, scoring='neg_mean_squared_error')\n",
    "cv_rmse = np.sqrt(-cv_scores).mean()\n",
    "\n",
    "#output\n",
    "print(f\"Resubstitution RMSE: {resubstitution_rmse}\")\n",
    "print(f\"CV RMSE: {cv_rmse:.2f}\")\n"
   ]
  },
  {
   "cell_type": "markdown",
   "metadata": {},
   "source": [
    "<h2>Compare Normal CV and Nested CV<h2>"
   ]
  },
  {
   "cell_type": "code",
   "execution_count": 6,
   "metadata": {},
   "outputs": [
    {
     "name": "stdout",
     "output_type": "stream",
     "text": [
      "Mean RMSE (nested CV): 0.2898\n",
      "Mean RMSE (regular CV): 0.4852\n",
      "Mean RMSE (resubstution): 0.2578\n"
     ]
    }
   ],
   "source": [
    "import numpy as np\n",
    "from sklearn.model_selection import cross_val_score, KFold\n",
    "from sklearn.linear_model import LinearRegression  \n",
    "from sklearn.metrics import mean_squared_error\n",
    "\n",
    "model = LinearRegression()\n",
    "\n",
    "outer_cv = KFold(n_splits=10, shuffle=True, random_state=42)\n",
    "\n",
    "rmse_scores = []\n",
    "\n",
    "# Outer loop: split data into train and validation sets\n",
    "for train_idx, val_idx in outer_cv.split(X):\n",
    "    X_train, X_val = X[train_idx], X[val_idx]\n",
    "    y_train, y_val = y[train_idx], y[val_idx]\n",
    "\n",
    "    # Define the inner loop (for model evaluation)\n",
    "    inner_cv = KFold(n_splits=10, shuffle=True, random_state=42)\n",
    "    inner_rmse_scores = []\n",
    "\n",
    "    # Inner loop: perform k-fold cross-validation on the training set\n",
    "    for train_idx_inner, val_idx_inner in inner_cv.split(X_train):\n",
    "        X_train_inner, X_val_inner = X_train[train_idx_inner], X_train[val_idx_inner]\n",
    "        y_train_inner, y_val_inner = y_train[train_idx_inner], y_train[val_idx_inner]\n",
    "        model.fit(X_train_inner, y_train_inner)\n",
    "        y_pred_inner = model.predict(X_val_inner)\n",
    "        inner_rmse = np.sqrt(mean_squared_error(y_val_inner, y_pred_inner))\n",
    "        inner_rmse_scores.append(inner_rmse)\n",
    "\n",
    "    # Calculate the mean RMSE across inner folds\n",
    "    outer_rmse = np.mean(inner_rmse_scores)\n",
    "    rmse_scores.append(outer_rmse)\n",
    "\n",
    "\n",
    "# Calculate the mean RMSE across outer folds\n",
    "mean_rmse = np.mean(rmse_scores)\n",
    "print(f\"Mean RMSE (nested CV): {mean_rmse:.4f}\")\n",
    "\n",
    "cv_scores = cross_val_score(model, X, y, cv=10, scoring='neg_mean_squared_error')\n",
    "mean_cv_rmse = np.sqrt(-np.mean(cv_scores))\n",
    "print(f\"Mean RMSE (regular CV): {mean_cv_rmse:.4f}\")\n",
    "\n",
    "#compare with resubstution\n",
    "model.fit(X, y)\n",
    "y_pred = model.predict(X)\n",
    "resubstitution_rmse = np.sqrt(mean_squared_error(y, y_pred))\n",
    "print(f\"Mean RMSE (resubstution): {resubstitution_rmse:.4f}\")"
   ]
  }
 ],
 "metadata": {
  "kernelspec": {
   "display_name": "Python 3",
   "language": "python",
   "name": "python3"
  },
  "language_info": {
   "codemirror_mode": {
    "name": "ipython",
    "version": 3
   },
   "file_extension": ".py",
   "mimetype": "text/x-python",
   "name": "python",
   "nbconvert_exporter": "python",
   "pygments_lexer": "ipython3",
   "version": "3.12.4"
  }
 },
 "nbformat": 4,
 "nbformat_minor": 2
}
